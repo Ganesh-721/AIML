{
 "cells": [
  {
   "cell_type": "markdown",
   "metadata": {},
   "source": [
    "# CSE-221710305039-SAI GANESH"
   ]
  },
  {
   "cell_type": "markdown",
   "metadata": {},
   "source": [
    "## Assignment-30-05-2020"
   ]
  },
  {
   "cell_type": "markdown",
   "metadata": {},
   "source": [
    "## Question 1:\n",
    "Count the no.of words,no.of letters,no.of lines available in your file\n"
   ]
  },
  {
   "cell_type": "code",
   "execution_count": 18,
   "metadata": {},
   "outputs": [],
   "source": [
    "f=open(\"Assignment.txt\",\"w\")\n",
    "f.write(\"the lockdown is from 1-06-2020 to 31-06-2020\")\n",
    "f.close()"
   ]
  },
  {
   "cell_type": "code",
   "execution_count": 19,
   "metadata": {},
   "outputs": [],
   "source": [
    "f=open(\"Assignment.txt\",\"a\")\n",
    "s='''\\n Lockdown will continue \n",
    " stay home stay safe'''\n",
    "f.write(s)\n",
    "f.close()"
   ]
  },
  {
   "cell_type": "code",
   "execution_count": 20,
   "metadata": {},
   "outputs": [
    {
     "name": "stdout",
     "output_type": "stream",
     "text": [
      "the lockdown is from 1-06-2020 to 31-06-2020\n",
      " Lockdown will continue \n",
      " stay home stay safe\n"
     ]
    }
   ],
   "source": [
    "f=open(\"Assignment.txt\",\"r\")\n",
    "data=f.read()\n",
    "print(data)\n",
    "f.close()"
   ]
  },
  {
   "cell_type": "code",
   "execution_count": 21,
   "metadata": {},
   "outputs": [
    {
     "name": "stdout",
     "output_type": "stream",
     "text": [
      "Words in file: 14\n",
      "No of letters: 90\n"
     ]
    }
   ],
   "source": [
    "f=open(\"Assignment.txt\",\"r\")\n",
    "data=f.read()\n",
    "words=data.split()\n",
    "print(\"Words in file:\",len(words))\n",
    "print(\"No of letters:\",len(data))\n",
    "f.close()"
   ]
  },
  {
   "cell_type": "code",
   "execution_count": 22,
   "metadata": {},
   "outputs": [
    {
     "name": "stdout",
     "output_type": "stream",
     "text": [
      "No of Lines: 3\n"
     ]
    }
   ],
   "source": [
    "f=open(\"Assignment.txt\",\"r\")\n",
    "lines_count=0\n",
    "for lines in f:\n",
    "    lines_count+=1\n",
    "print(\"No of Lines:\",lines_count)\n",
    "f.close()"
   ]
  },
  {
   "cell_type": "code",
   "execution_count": null,
   "metadata": {},
   "outputs": [],
   "source": []
  },
  {
   "cell_type": "markdown",
   "metadata": {},
   "source": [
    "## Question 2:\n",
    "Copy the content of one file to another\n"
   ]
  },
  {
   "cell_type": "code",
   "execution_count": 23,
   "metadata": {},
   "outputs": [],
   "source": [
    "f=open(\"Assignment.txt\",\"r\")\n",
    "p=open(\"Newfile.txt\",\"w\")\n",
    "for i in f:\n",
    "    p.write(i)\n",
    "f.close()\n",
    "p.close()"
   ]
  },
  {
   "cell_type": "code",
   "execution_count": 24,
   "metadata": {},
   "outputs": [
    {
     "name": "stdout",
     "output_type": "stream",
     "text": [
      "the lockdown is from 1-06-2020 to 31-06-2020\n",
      " Lockdown will continue \n",
      " stay home stay safe\n"
     ]
    }
   ],
   "source": [
    "p=open(\"Newfile.txt\",'r')\n",
    "data=p.read()\n",
    "print(data)\n",
    "p.close()"
   ]
  },
  {
   "cell_type": "code",
   "execution_count": null,
   "metadata": {},
   "outputs": [],
   "source": []
  },
  {
   "cell_type": "markdown",
   "metadata": {},
   "source": [
    "## Question 3:\n",
    "Display the words starting with letter 'p'\n",
    "\n"
   ]
  },
  {
   "cell_type": "code",
   "execution_count": 25,
   "metadata": {},
   "outputs": [],
   "source": [
    "f=open(\"hello.txt\",\"w\")\n",
    "f.write(\"parallelogram has parallel sides\")\n",
    "f.close()"
   ]
  },
  {
   "cell_type": "code",
   "execution_count": 26,
   "metadata": {},
   "outputs": [
    {
     "name": "stdout",
     "output_type": "stream",
     "text": [
      "parallelogram\n",
      "parallel\n"
     ]
    }
   ],
   "source": [
    "f=open(\"hello.txt\",\"r\")\n",
    "data=f.read()\n",
    "words=data.split()\n",
    "for i in words:\n",
    "    for letter in i:\n",
    "        if letter[0]=='p':\n",
    "            print(i)\n",
    "f.close()"
   ]
  },
  {
   "cell_type": "code",
   "execution_count": null,
   "metadata": {},
   "outputs": [],
   "source": []
  },
  {
   "cell_type": "markdown",
   "metadata": {},
   "source": [
    "## Question 4:\n",
    "Rename and remove files\n"
   ]
  },
  {
   "cell_type": "code",
   "execution_count": 33,
   "metadata": {},
   "outputs": [],
   "source": [
    "f=open(\"sample.txt\",'w')\n",
    "f.close()"
   ]
  },
  {
   "cell_type": "code",
   "execution_count": 34,
   "metadata": {},
   "outputs": [],
   "source": [
    "import os\n",
    "os.rename(r'C:\\Users\\DELL\\Documents\\SUMMER INTERNSHIP\\sample.txt',r'C:\\Users\\DELL\\Documents\\SUMMER INTERNSHIP\\newsample.txt')"
   ]
  },
  {
   "cell_type": "code",
   "execution_count": 35,
   "metadata": {},
   "outputs": [],
   "source": [
    "os.remove(\"newsample.txt\")"
   ]
  },
  {
   "cell_type": "code",
   "execution_count": null,
   "metadata": {},
   "outputs": [],
   "source": []
  },
  {
   "cell_type": "markdown",
   "metadata": {},
   "source": [
    "## Question 5:\n",
    "Create a folder \n",
    "1. Goto that folder and create 5 no.of files\n",
    "2. All the file names should be unique\n",
    "3. Add some content into the file and the content in all the files should be unique\n",
    "4. File size should be 512bits\n"
   ]
  },
  {
   "cell_type": "code",
   "execution_count": null,
   "metadata": {},
   "outputs": [],
   "source": []
  },
  {
   "cell_type": "code",
   "execution_count": null,
   "metadata": {},
   "outputs": [],
   "source": []
  }
 ],
 "metadata": {
  "kernelspec": {
   "display_name": "Python 3",
   "language": "python",
   "name": "python3"
  },
  "language_info": {
   "codemirror_mode": {
    "name": "ipython",
    "version": 3
   },
   "file_extension": ".py",
   "mimetype": "text/x-python",
   "name": "python",
   "nbconvert_exporter": "python",
   "pygments_lexer": "ipython3",
   "version": "3.7.6"
  }
 },
 "nbformat": 4,
 "nbformat_minor": 4
}

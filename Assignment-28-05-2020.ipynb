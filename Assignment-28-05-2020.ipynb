{
 "cells": [
  {
   "cell_type": "markdown",
   "metadata": {},
   "source": [
    "#                                       Assignment 28-05-2020"
   ]
  },
  {
   "cell_type": "markdown",
   "metadata": {},
   "source": [
    "## 1. Accept a string from the user and count no.of vowels,consonants and special characters\n"
   ]
  },
  {
   "cell_type": "code",
   "execution_count": 19,
   "metadata": {},
   "outputs": [
    {
     "name": "stdout",
     "output_type": "stream",
     "text": [
      "Enter the string:Hey buddy i am going to school @10:30am\n",
      "Noof vowels: 10\n",
      "Noof consonants: 16\n",
      "Noof Specials: 13\n"
     ]
    }
   ],
   "source": [
    "string=input('Enter the string:')\n",
    "vowels=0\n",
    "consonant=0\n",
    "special=0\n",
    "string=string.lower()\n",
    "for i in string:\n",
    "    if i in ['a','e','i','o','u']:\n",
    "        vowels+=1\n",
    "    elif i>='a'and i<='z': \n",
    "        consonant+=1\n",
    "    else:\n",
    "        special+=1\n",
    "print('Noof vowels:',vowels)\n",
    "print('Noof consonants:',consonant)\n",
    "print('Noof Specials:',special)"
   ]
  },
  {
   "cell_type": "code",
   "execution_count": null,
   "metadata": {},
   "outputs": [],
   "source": []
  },
  {
   "cell_type": "markdown",
   "metadata": {},
   "source": [
    "## 2. count the no.of pairs of a in the given string(Infosys InfyTQ)\n",
    "    string →  \"abbaaccbbaaa\"\n",
    "    output →  2\n"
   ]
  },
  {
   "cell_type": "code",
   "execution_count": 35,
   "metadata": {},
   "outputs": [
    {
     "name": "stdout",
     "output_type": "stream",
     "text": [
      "2\n"
     ]
    }
   ],
   "source": [
    "string='abbaaccbbaaa'\n",
    "print(string.count('aa'))"
   ]
  },
  {
   "cell_type": "markdown",
   "metadata": {},
   "source": [
    "## 3.\n",
    "    Test case1:\n",
    "        string →  \"((((()()()))))()\"\n",
    "        output →  8\n",
    "    Test case2:\n",
    "        string →  \"((()))()\"\n",
    "        Output →  4\n"
   ]
  },
  {
   "cell_type": "code",
   "execution_count": 21,
   "metadata": {},
   "outputs": [
    {
     "name": "stdout",
     "output_type": "stream",
     "text": [
      "8\n"
     ]
    }
   ],
   "source": [
    "# TEST CASE 1\n",
    "string1=\"((((()()()))))()\"\n",
    "print(string1.count(')'))"
   ]
  },
  {
   "cell_type": "code",
   "execution_count": 19,
   "metadata": {},
   "outputs": [
    {
     "name": "stdout",
     "output_type": "stream",
     "text": [
      "4\n"
     ]
    }
   ],
   "source": [
    "# TEST CASE 2\n",
    "string2=\"((()))()\"\n",
    "print(string2.count(')'))"
   ]
  },
  {
   "cell_type": "markdown",
   "metadata": {},
   "source": [
    "## 4. Read the input as two limits and Print the output as Palindrome count between the two   limits\n",
    " - Example #1; Input : 1 10 Output : 9 \n",
    " - Example #2: Input : 1 100 Output : 18 \n"
   ]
  },
  {
   "cell_type": "code",
   "execution_count": 42,
   "metadata": {},
   "outputs": [
    {
     "name": "stdout",
     "output_type": "stream",
     "text": [
      "Limit1:1\n",
      "Limit2:10\n",
      "9\n"
     ]
    }
   ],
   "source": [
    "# TEST CASE 1\n",
    "limit1=int(input('Limit1:'))\n",
    "limit2=int(input('Limit2:'))\n",
    "count=0\n",
    "for i in range(limit1,limit2+1):\n",
    "    if str(i)==str(i)[::-1]:\n",
    "        count+=1\n",
    "print(count)"
   ]
  },
  {
   "cell_type": "code",
   "execution_count": 43,
   "metadata": {},
   "outputs": [
    {
     "name": "stdout",
     "output_type": "stream",
     "text": [
      "Limit1:1\n",
      "Limit2:100\n",
      "18\n"
     ]
    }
   ],
   "source": [
    "# TEST CASE 2\n",
    "limit1=int(input('Limit1:'))\n",
    "limit2=int(input('Limit2:'))\n",
    "count=0\n",
    "for i in range(limit1,limit2+1):\n",
    "    if str(i)==str(i)[::-1]:\n",
    "        count+=1\n",
    "print(count)"
   ]
  },
  {
   "cell_type": "markdown",
   "metadata": {},
   "source": [
    "## 5. Accept a number as an input and check whether the given number is palindrome or not\n",
    "- if it is a palindrome number print the number on the screen\n",
    "- if it is not a palindrome number reverse that number and add it to previous number repeat this until will get a palindrome number and print that palindrome number on the screen\n",
    " \n",
    " **input: 127**\n",
    " **output: 848**\n"
   ]
  },
  {
   "cell_type": "code",
   "execution_count": 2,
   "metadata": {},
   "outputs": [
    {
     "name": "stdout",
     "output_type": "stream",
     "text": [
      "Enter the number:127\n",
      "848\n",
      "Palindrome\n"
     ]
    }
   ],
   "source": [
    "n=int(input('Enter the number:'))\n",
    "while True:\n",
    "    if str(n)==str(n)[::-1]:\n",
    "        print(n)\n",
    "        print('Palindrome')\n",
    "        break\n",
    "    else:\n",
    "        a=str(n)[::-1]\n",
    "        b=int(a)\n",
    "        n+=b"
   ]
  },
  {
   "cell_type": "markdown",
   "metadata": {},
   "source": [
    "## 6.\n",
    "input:orange  →   output : puboif"
   ]
  },
  {
   "cell_type": "code",
   "execution_count": null,
   "metadata": {},
   "outputs": [],
   "source": []
  },
  {
   "cell_type": "markdown",
   "metadata": {},
   "source": [
    "##  7. Accept input as a string and display sum of digits as the output \n",
    "input:Appli123cation456 \n",
    "\n",
    "Output: 21\n"
   ]
  },
  {
   "cell_type": "code",
   "execution_count": 6,
   "metadata": {},
   "outputs": [
    {
     "name": "stdout",
     "output_type": "stream",
     "text": [
      "Enter stringAppli123cation456\n",
      "21\n"
     ]
    }
   ],
   "source": [
    "n=input('Enter string')\n",
    "a=0\n",
    "for i in n:\n",
    "    if i.isdigit():\n",
    "        a+=int(i)\n",
    "print(a)"
   ]
  },
  {
   "cell_type": "markdown",
   "metadata": {},
   "source": [
    "## 8. Write a program to prompt for a score between 0.0 and 1.0. If the score is out of range, print an error. If the score is between 0.0 and 1.0, print a grade using the following table:"
   ]
  },
  {
   "cell_type": "markdown",
   "metadata": {},
   "source": [
    "Score Grade\n",
    ">= 0.9 A\n",
    ">= 0.8 B\n",
    ">= 0.7 C\n",
    ">= 0.6 D\n",
    "< 0.6 F\n",
    "If the user enters a value out of range, print a suitable error message and exit. For the test, enter a score of 0.85\n"
   ]
  },
  {
   "cell_type": "code",
   "execution_count": 12,
   "metadata": {},
   "outputs": [
    {
     "name": "stdout",
     "output_type": "stream",
     "text": [
      "Enter score:0.85\n",
      "B\n"
     ]
    }
   ],
   "source": [
    "n=input('Enter score:')\n",
    "score=float(n)\n",
    "if score>=0.90:\n",
    "    print('A')\n",
    "elif score>=0.80:\n",
    "    print('B')\n",
    "elif score>=0.70:\n",
    "    print('C')\n",
    "elif score>=0.60:\n",
    "    print('D')\n",
    "elif score<.60:\n",
    "    print('FAIL')\n",
    "else:\n",
    "    print('Out of range')\n"
   ]
  },
  {
   "cell_type": "code",
   "execution_count": null,
   "metadata": {},
   "outputs": [],
   "source": []
  },
  {
   "cell_type": "markdown",
   "metadata": {},
   "source": [
    "## 9. Write a Python program which iterates the integers from 1 to 50. For multiples of three print \"Fizz\" instead of the number and for the multiples of five print \"Buzz\". For numbers which are multiples of both three and five print \"FizzBuzz\".\n"
   ]
  },
  {
   "cell_type": "markdown",
   "metadata": {},
   "source": [
    "Sample Output :\n",
    "fizzbuzz\n",
    "1\n",
    "2\n",
    "fizz\n",
    "4\n",
    "buzz\n"
   ]
  },
  {
   "cell_type": "code",
   "execution_count": 23,
   "metadata": {},
   "outputs": [
    {
     "name": "stdout",
     "output_type": "stream",
     "text": [
      "1\n",
      "2\n",
      "Fizz\n",
      "4\n",
      "Buzz\n",
      "Fizz\n",
      "7\n",
      "8\n",
      "Fizz\n",
      "Buzz\n",
      "11\n",
      "Fizz\n",
      "13\n",
      "14\n",
      "FizzBuzz\n",
      "16\n",
      "17\n",
      "Fizz\n",
      "19\n",
      "Buzz\n",
      "Fizz\n",
      "22\n",
      "23\n",
      "Fizz\n",
      "Buzz\n",
      "26\n",
      "Fizz\n",
      "28\n",
      "29\n",
      "FizzBuzz\n",
      "31\n",
      "32\n",
      "Fizz\n",
      "34\n",
      "Buzz\n",
      "Fizz\n",
      "37\n",
      "38\n",
      "Fizz\n",
      "Buzz\n",
      "41\n",
      "Fizz\n",
      "43\n",
      "44\n",
      "FizzBuzz\n",
      "46\n",
      "47\n",
      "Fizz\n",
      "49\n",
      "Buzz\n"
     ]
    }
   ],
   "source": [
    "for i in range(1,51):\n",
    "    if i%3==0 and i%5==0:\n",
    "        print('FizzBuzz')\n",
    "    elif i%3==0:\n",
    "        print('Fizz')\n",
    "    elif i%5==0:\n",
    "        print('Buzz')\n",
    "    else:\n",
    "        print(i)"
   ]
  },
  {
   "cell_type": "code",
   "execution_count": null,
   "metadata": {},
   "outputs": [],
   "source": []
  },
  {
   "cell_type": "markdown",
   "metadata": {},
   "source": [
    "## 10. Write a Python program to find the median of three values.\n",
    "Expected Output:\n",
    "Input first number: 26                                            \n",
    "Input second number: 15                                                \n",
    "Input third number: 29                                                  \n",
    "The median is 26\n"
   ]
  },
  {
   "cell_type": "code",
   "execution_count": 26,
   "metadata": {},
   "outputs": [
    {
     "name": "stdout",
     "output_type": "stream",
     "text": [
      "26\n",
      "15\n",
      "29\n",
      "median: 26\n"
     ]
    }
   ],
   "source": [
    "n1=int(input())\n",
    "n2=int(input())\n",
    "n3=int(input())\n",
    "if n1>n2:\n",
    "    if n2>n3:\n",
    "        print(\"median:\",n2)\n",
    "    elif n3>n1:\n",
    "        print(\"median:\",n1)\n",
    "    else:\n",
    "        print(\"median:\",n3)\n",
    "else:\n",
    "    if n1>n3:\n",
    "        print(\"median:\",n1)\n",
    "    elif n3>n2:\n",
    "        print(\"median:\",n2)\n",
    "    else:\n",
    "        print(\"median:\",n3)"
   ]
  },
  {
   "cell_type": "code",
   "execution_count": null,
   "metadata": {},
   "outputs": [],
   "source": []
  }
 ],
 "metadata": {
  "kernelspec": {
   "display_name": "Python 3",
   "language": "python",
   "name": "python3"
  },
  "language_info": {
   "codemirror_mode": {
    "name": "ipython",
    "version": 3
   },
   "file_extension": ".py",
   "mimetype": "text/x-python",
   "name": "python",
   "nbconvert_exporter": "python",
   "pygments_lexer": "ipython3",
   "version": "3.7.6"
  }
 },
 "nbformat": 4,
 "nbformat_minor": 4
}

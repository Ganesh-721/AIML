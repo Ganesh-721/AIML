{
 "cells": [
  {
   "cell_type": "markdown",
   "metadata": {},
   "source": [
    "# Assignment 27-05-2020"
   ]
  },
  {
   "cell_type": "markdown",
   "metadata": {},
   "source": [
    "1. Generate the following pattern\n",
    "  \t\n",
    "    *\n",
    "   \t*  *\n",
    "\t*  *  *\n",
    " \t*  *  *  *\n",
    " \t*  *  *  *  *\n"
   ]
  },
  {
   "cell_type": "code",
   "execution_count": 28,
   "metadata": {},
   "outputs": [
    {
     "name": "stdout",
     "output_type": "stream",
     "text": [
      "Enter the rows:6\n",
      " \n",
      "*  \n",
      "* *  \n",
      "* * *  \n",
      "* * * *  \n",
      "* * * * *  \n"
     ]
    }
   ],
   "source": [
    "a=int(input('Enter the rows:'))\n",
    "for num in range(a):\n",
    "    for i in range(num):\n",
    "        print('*',end=' ')\n",
    "    print(' ')\n",
    "        "
   ]
  },
  {
   "cell_type": "code",
   "execution_count": null,
   "metadata": {},
   "outputs": [],
   "source": []
  },
  {
   "cell_type": "markdown",
   "metadata": {},
   "source": [
    "## 2. Display multiplication table of K. Take k value from user\n",
    " \tEx:      7 x 1 =7\n",
    "    \t\t7 x 2 = 14   .....\n"
   ]
  },
  {
   "cell_type": "code",
   "execution_count": 12,
   "metadata": {},
   "outputs": [
    {
     "name": "stdout",
     "output_type": "stream",
     "text": [
      "Enter a value:7\n",
      "7 x 1 = 7\n",
      "7 x 2 = 14\n",
      "7 x 3 = 21\n",
      "7 x 4 = 28\n",
      "7 x 5 = 35\n",
      "7 x 6 = 42\n",
      "7 x 7 = 49\n",
      "7 x 8 = 56\n",
      "7 x 9 = 63\n",
      "7 x 10 = 70\n"
     ]
    }
   ],
   "source": [
    "a=int(input('Enter a value:'))\n",
    "for num in range(1,11):\n",
    "    print(a,'x',num,'=',num*a)"
   ]
  },
  {
   "cell_type": "markdown",
   "metadata": {},
   "source": [
    "## 3.Roots of quadratic equation\n",
    "  \tTake the coefficients a,b,c from the user"
   ]
  },
  {
   "cell_type": "code",
   "execution_count": 14,
   "metadata": {},
   "outputs": [
    {
     "name": "stdout",
     "output_type": "stream",
     "text": [
      "Enter a value:1\n",
      "Enter b value:6\n",
      "Enter c value:5\n",
      "-0.2 -1.0\n"
     ]
    }
   ],
   "source": [
    "from math import sqrt\n",
    "a=int(input('Enter a value:'))\n",
    "b=int(input('Enter b value:'))\n",
    "c=int(input('Enter c value:'))\n",
    "qa=(a*x**2)+(b*x)+(c)\n",
    "r= b**2 - 4*a*c\n",
    "if r>0:\n",
    "    num_roots=2\n",
    "    x1=(((-b)+ sqrt(r))/(2*a*c))\n",
    "    x2=(((-b)- sqrt(r))/(2*a*c))\n",
    "    print(x1,x2)\n",
    "elif r==0:\n",
    "    num_roots=1\n",
    "    x = (-b) / 2*a\n",
    "    print(x1)\n",
    "else:\n",
    "    num_roots=0\n",
    "    print('No roots')"
   ]
  },
  {
   "cell_type": "markdown",
   "metadata": {},
   "source": [
    "## 4. Convert a decimal number to Binary\n"
   ]
  },
  {
   "cell_type": "code",
   "execution_count": 2,
   "metadata": {},
   "outputs": [
    {
     "name": "stdout",
     "output_type": "stream",
     "text": [
      "Enter n value:8\n",
      "0001"
     ]
    }
   ],
   "source": [
    "n=int(input('Enter n value:'))\n",
    "while n>0:\n",
    "    b=n%2\n",
    "    i=str(b)\n",
    "    print(i[::-1],end=\"\")\n",
    "    n=n//2"
   ]
  },
  {
   "cell_type": "code",
   "execution_count": null,
   "metadata": {},
   "outputs": [],
   "source": []
  },
  {
   "cell_type": "markdown",
   "metadata": {},
   "source": [
    "## 5. Generate first N number of Fibonacci numbers. Take N value from the user"
   ]
  },
  {
   "cell_type": "code",
   "execution_count": 25,
   "metadata": {},
   "outputs": [
    {
     "name": "stdout",
     "output_type": "stream",
     "text": [
      "10\n",
      "0 1\n",
      "1 2 3 5 8 13 21 34 "
     ]
    }
   ],
   "source": [
    "a=0\n",
    "b=1\n",
    "n=int(input())\n",
    "if n<=0:\n",
    "    print('Invalid Input')\n",
    "else:\n",
    "    print(a,b)\n",
    "    for num in range(2,n):\n",
    "        c=a+b\n",
    "        print(c,end=\" \")\n",
    "        a=b\n",
    "        b=c\n",
    "    "
   ]
  },
  {
   "cell_type": "code",
   "execution_count": null,
   "metadata": {},
   "outputs": [],
   "source": []
  }
 ],
 "metadata": {
  "kernelspec": {
   "display_name": "Python 3",
   "language": "python",
   "name": "python3"
  },
  "language_info": {
   "codemirror_mode": {
    "name": "ipython",
    "version": 3
   },
   "file_extension": ".py",
   "mimetype": "text/x-python",
   "name": "python",
   "nbconvert_exporter": "python",
   "pygments_lexer": "ipython3",
   "version": "3.7.6"
  }
 },
 "nbformat": 4,
 "nbformat_minor": 4
}

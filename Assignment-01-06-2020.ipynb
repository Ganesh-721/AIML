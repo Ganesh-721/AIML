{
 "cells": [
  {
   "cell_type": "markdown",
   "metadata": {},
   "source": [
    "# CSE-221710305039-SAI GANESH"
   ]
  },
  {
   "cell_type": "markdown",
   "metadata": {},
   "source": [
    "## Assignement-01-06-2020 - PASSWORD PICKER (Mini Project)"
   ]
  },
  {
   "cell_type": "markdown",
   "metadata": {},
   "source": [
    "### Ideal Password= Verb+Noun+Digit+Special\n"
   ]
  },
  {
   "cell_type": "code",
   "execution_count": 42,
   "metadata": {},
   "outputs": [],
   "source": [
    "#step 1: First lets create a list of Verbs and choice randomly\n",
    "import random\n",
    "def verb():\n",
    "    verbs=['deeply','utterly','strongly','highly']\n",
    "    return random.choice(verbs)"
   ]
  },
  {
   "cell_type": "code",
   "execution_count": 44,
   "metadata": {},
   "outputs": [
    {
     "data": {
      "text/plain": [
       "'strongly'"
      ]
     },
     "execution_count": 44,
     "metadata": {},
     "output_type": "execute_result"
    }
   ],
   "source": [
    "verb()"
   ]
  },
  {
   "cell_type": "code",
   "execution_count": 38,
   "metadata": {},
   "outputs": [],
   "source": [
    "#step 2: lets create a list of nouns and choose randomly\n",
    "import random\n",
    "def noun():\n",
    "    nouns=['worried','successful','beautiful','wrong','suggest','dislike']\n",
    "    return  random.choice(nouns)"
   ]
  },
  {
   "cell_type": "code",
   "execution_count": 41,
   "metadata": {},
   "outputs": [
    {
     "data": {
      "text/plain": [
       "'suggest'"
      ]
     },
     "execution_count": 41,
     "metadata": {},
     "output_type": "execute_result"
    }
   ],
   "source": [
    "noun()"
   ]
  },
  {
   "cell_type": "code",
   "execution_count": 3,
   "metadata": {},
   "outputs": [],
   "source": [
    "#step 3: lets print any number from 1-100 digits randomly\n",
    "import random\n",
    "def digits():\n",
    "    number=random.randint(0,100)\n",
    "    return str(number)"
   ]
  },
  {
   "cell_type": "code",
   "execution_count": 4,
   "metadata": {},
   "outputs": [
    {
     "data": {
      "text/plain": [
       "'45'"
      ]
     },
     "execution_count": 4,
     "metadata": {},
     "output_type": "execute_result"
    }
   ],
   "source": [
    "digits()"
   ]
  },
  {
   "cell_type": "code",
   "execution_count": 28,
   "metadata": {},
   "outputs": [],
   "source": [
    "#step 4 : lets print a random punctuation character \n",
    "import random\n",
    "import string\n",
    "def punctuation():\n",
    "    punctuationchar=string.punctuation\n",
    "    return random.choice(punctuationchar)"
   ]
  },
  {
   "cell_type": "code",
   "execution_count": 12,
   "metadata": {},
   "outputs": [
    {
     "data": {
      "text/plain": [
       "'+'"
      ]
     },
     "execution_count": 12,
     "metadata": {},
     "output_type": "execute_result"
    }
   ],
   "source": [
    "punctuation()"
   ]
  },
  {
   "cell_type": "code",
   "execution_count": 14,
   "metadata": {},
   "outputs": [
    {
     "name": "stdout",
     "output_type": "stream",
     "text": [
      "New password: stronglysuggest26&\n",
      " enter \"onemore\"for new password\n",
      "Enter new password: deeplyworried07!\n"
     ]
    }
   ],
   "source": [
    "# step 4: Now lets create a password!\n",
    "import random\n",
    "import string\n",
    "def verb():\n",
    "    verbs=['deeply','utterly','strongly','highly']\n",
    "    return random.choice(verbs)\n",
    "def noun():\n",
    "    nouns=['worried','successful','beautiful','wrong','suggest','dislike']\n",
    "    return  random.choice(nouns)\n",
    "def digits():\n",
    "    number=random.randint(0,100)\n",
    "    return str(number)\n",
    "def punctuation():\n",
    "    punctuationchar=string.punctuation\n",
    "    return random.choice(punctuationchar)\n",
    "while True:\n",
    "    print(\"New password: \"+ verb() + noun() + digits() + punctuation()+\n",
    "         \"\\n enter \\\"onemore\\\" for new password\")\n",
    "    a=input('Enter new password: ')\n",
    "    if a!=\"onemore\":\n",
    "        break\n",
    "    "
   ]
  },
  {
   "cell_type": "code",
   "execution_count": null,
   "metadata": {},
   "outputs": [],
   "source": []
  }
 ],
 "metadata": {
  "kernelspec": {
   "display_name": "Python 3",
   "language": "python",
   "name": "python3"
  },
  "language_info": {
   "codemirror_mode": {
    "name": "ipython",
    "version": 3
   },
   "file_extension": ".py",
   "mimetype": "text/x-python",
   "name": "python",
   "nbconvert_exporter": "python",
   "pygments_lexer": "ipython3",
   "version": "3.7.6"
  }
 },
 "nbformat": 4,
 "nbformat_minor": 4
}

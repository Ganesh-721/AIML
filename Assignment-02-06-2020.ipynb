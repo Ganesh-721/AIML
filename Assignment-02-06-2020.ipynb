{
 "cells": [
  {
   "cell_type": "markdown",
   "metadata": {},
   "source": [
    "# CSE-221710305039-SAI GANESH\n",
    "## Assignment -02-06-2020"
   ]
  },
  {
   "cell_type": "code",
   "execution_count": null,
   "metadata": {},
   "outputs": [
    {
     "name": "stdout",
     "output_type": "stream",
     "text": [
      "the secret word is:  froze\n",
      "enter the character: tyres\n",
      "\n",
      "r\n",
      "\n",
      "\n",
      "e\n",
      "guess a character:f\n",
      "f\n",
      "r\n",
      "\n",
      "\n",
      "e\n",
      "guess a character:a\n",
      "wrong\n",
      "you have 8 lifes remaining\n",
      "f\n",
      "r\n",
      "\n",
      "\n",
      "e\n",
      "guess a character:r\n",
      "f\n",
      "r\n",
      "\n",
      "\n",
      "e\n",
      "guess a character:o\n",
      "f\n",
      "r\n",
      "o\n",
      "\n",
      "e\n",
      "guess a character:d\n",
      "wrong\n",
      "you have 7 lifes remaining\n",
      "f\n",
      "r\n",
      "o\n",
      "\n",
      "e\n",
      "guess a character:z\n",
      "f\n",
      "r\n",
      "o\n",
      "z\n",
      "e\n",
      "you win\n",
      "the word is froze\n",
      "guess a character:e\n",
      "f\n",
      "r\n",
      "o\n",
      "z\n",
      "e\n",
      "you win\n",
      "the word is froze\n"
     ]
    }
   ],
   "source": [
    "import random\n",
    "words={\"drunk\",\"buddy\",\"pizza\",\"tyres\",\"flour\",\"brave\",\"lives\",\"froze\",\"heart\"}\n",
    "words=list(words)\n",
    "secret_word=random.choice(words)\n",
    "print(\"the secret word is: \",secret_word)\n",
    "a=input(\"enter the character: \")\n",
    "life=9\n",
    "while life>0:\n",
    "    fail=0\n",
    "    for char in secret_word:\n",
    "        if(char in a):\n",
    "            print(char)\n",
    "        else:\n",
    "            print(_)\n",
    "            fail=+1\n",
    "    if fail==0:\n",
    "        print(\"you win\")\n",
    "        print(\"the word is\",secret_word)\n",
    "    guess = input(\"guess a character:\") \n",
    "    a+=guess\n",
    "    if guess not in secret_word:\n",
    "        life-=1\n",
    "        print(\"wrong\")\n",
    "        print(\"you have\",life,\"lifes remaining\")\n",
    "        if(life==0):\n",
    "            print(\"you loose\")"
   ]
  },
  {
   "cell_type": "code",
   "execution_count": null,
   "metadata": {},
   "outputs": [],
   "source": []
  },
  {
   "cell_type": "code",
   "execution_count": null,
   "metadata": {},
   "outputs": [],
   "source": []
  }
 ],
 "metadata": {
  "kernelspec": {
   "display_name": "Python 3",
   "language": "python",
   "name": "python3"
  },
  "language_info": {
   "codemirror_mode": {
    "name": "ipython",
    "version": 3
   },
   "file_extension": ".py",
   "mimetype": "text/x-python",
   "name": "python",
   "nbconvert_exporter": "python",
   "pygments_lexer": "ipython3",
   "version": "3.7.6"
  }
 },
 "nbformat": 4,
 "nbformat_minor": 4
}
